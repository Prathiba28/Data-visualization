{
 "cells": [
  {
   "cell_type": "code",
   "execution_count": 2,
   "id": "a09ac124",
   "metadata": {},
   "outputs": [],
   "source": [
    "import numpy as np\n",
    "import pandas as pd\n",
    "import matplotlib.pyplot as plt\n",
    "import seaborn as sns\n",
    "from numpy.random import randn,randint,uniform,sample"
   ]
  },
  {
   "cell_type": "code",
   "execution_count": 3,
   "id": "6a4a5412",
   "metadata": {},
   "outputs": [
    {
     "data": {
      "text/html": [
       "<div>\n",
       "<style scoped>\n",
       "    .dataframe tbody tr th:only-of-type {\n",
       "        vertical-align: middle;\n",
       "    }\n",
       "\n",
       "    .dataframe tbody tr th {\n",
       "        vertical-align: top;\n",
       "    }\n",
       "\n",
       "    .dataframe thead th {\n",
       "        text-align: right;\n",
       "    }\n",
       "</style>\n",
       "<table border=\"1\" class=\"dataframe\">\n",
       "  <thead>\n",
       "    <tr style=\"text-align: right;\">\n",
       "      <th></th>\n",
       "      <th>a</th>\n",
       "      <th>b</th>\n",
       "      <th>c</th>\n",
       "      <th>d</th>\n",
       "    </tr>\n",
       "  </thead>\n",
       "  <tbody>\n",
       "    <tr>\n",
       "      <th>0</th>\n",
       "      <td>0.625059</td>\n",
       "      <td>0.564370</td>\n",
       "      <td>-0.467261</td>\n",
       "      <td>0.032406</td>\n",
       "    </tr>\n",
       "    <tr>\n",
       "      <th>1</th>\n",
       "      <td>-0.859947</td>\n",
       "      <td>-0.262039</td>\n",
       "      <td>-1.413720</td>\n",
       "      <td>-0.263824</td>\n",
       "    </tr>\n",
       "    <tr>\n",
       "      <th>2</th>\n",
       "      <td>-1.512627</td>\n",
       "      <td>-0.956465</td>\n",
       "      <td>0.721561</td>\n",
       "      <td>0.196381</td>\n",
       "    </tr>\n",
       "    <tr>\n",
       "      <th>3</th>\n",
       "      <td>-0.501258</td>\n",
       "      <td>0.601334</td>\n",
       "      <td>0.746441</td>\n",
       "      <td>0.753227</td>\n",
       "    </tr>\n",
       "    <tr>\n",
       "      <th>4</th>\n",
       "      <td>0.697994</td>\n",
       "      <td>1.256066</td>\n",
       "      <td>-0.753259</td>\n",
       "      <td>0.255561</td>\n",
       "    </tr>\n",
       "    <tr>\n",
       "      <th>5</th>\n",
       "      <td>0.415019</td>\n",
       "      <td>0.029457</td>\n",
       "      <td>-0.541223</td>\n",
       "      <td>-0.469103</td>\n",
       "    </tr>\n",
       "    <tr>\n",
       "      <th>6</th>\n",
       "      <td>-0.017375</td>\n",
       "      <td>0.150044</td>\n",
       "      <td>-0.833009</td>\n",
       "      <td>1.017270</td>\n",
       "    </tr>\n",
       "    <tr>\n",
       "      <th>7</th>\n",
       "      <td>-0.055957</td>\n",
       "      <td>-1.131015</td>\n",
       "      <td>-0.156217</td>\n",
       "      <td>-0.350713</td>\n",
       "    </tr>\n",
       "    <tr>\n",
       "      <th>8</th>\n",
       "      <td>-0.976481</td>\n",
       "      <td>2.331435</td>\n",
       "      <td>-1.010533</td>\n",
       "      <td>1.731039</td>\n",
       "    </tr>\n",
       "    <tr>\n",
       "      <th>9</th>\n",
       "      <td>-1.023061</td>\n",
       "      <td>0.588380</td>\n",
       "      <td>-0.468391</td>\n",
       "      <td>-0.290610</td>\n",
       "    </tr>\n",
       "  </tbody>\n",
       "</table>\n",
       "</div>"
      ],
      "text/plain": [
       "          a         b         c         d\n",
       "0  0.625059  0.564370 -0.467261  0.032406\n",
       "1 -0.859947 -0.262039 -1.413720 -0.263824\n",
       "2 -1.512627 -0.956465  0.721561  0.196381\n",
       "3 -0.501258  0.601334  0.746441  0.753227\n",
       "4  0.697994  1.256066 -0.753259  0.255561\n",
       "5  0.415019  0.029457 -0.541223 -0.469103\n",
       "6 -0.017375  0.150044 -0.833009  1.017270\n",
       "7 -0.055957 -1.131015 -0.156217 -0.350713\n",
       "8 -0.976481  2.331435 -1.010533  1.731039\n",
       "9 -1.023061  0.588380 -0.468391 -0.290610"
      ]
     },
     "execution_count": 3,
     "metadata": {},
     "output_type": "execute_result"
    }
   ],
   "source": [
    "df=pd.DataFrame(randn(10,4),columns=['a','b','c','d'])\n",
    "df"
   ]
  },
  {
   "cell_type": "code",
   "execution_count": 10,
   "id": "c7471b79",
   "metadata": {},
   "outputs": [
    {
     "data": {
      "text/plain": [
       "Text(0.5, 1.0, 'Bar chart')"
      ]
     },
     "execution_count": 10,
     "metadata": {},
     "output_type": "execute_result"
    },
    {
     "data": {
      "image/png": "[encoded data removed]",
      "text/plain": [
       "<Figure size 1080x936 with 1 Axes>"
      ]
     },
     "metadata": {
      "needs_background": "light"
     },
     "output_type": "display_data"
    }
   ],
   "source": [
    "df.plot(kind='bar',width=(2),figsize=(15,13))\n",
    "plt.title(\"Bar chart\")"
   ]
  },
  {
   "cell_type": "code",
   "execution_count": null,
   "id": "88d619d4",
   "metadata": {},
   "outputs": [],
   "source": []
  }
 ],
 "metadata": {
  "kernelspec": {
   "display_name": "Python 3 (ipykernel)",
   "language": "python",
   "name": "python3"
  },
  "language_info": {
   "codemirror_mode": {
    "name": "ipython",
    "version": 3
   },
   "file_extension": ".py",
   "mimetype": "text/x-python",
   "name": "python",
   "nbconvert_exporter": "python",
   "pygments_lexer": "ipython3",
   "version": "3.9.4"
  }
 },
 "nbformat": 4,
 "nbformat_minor": 5
}
